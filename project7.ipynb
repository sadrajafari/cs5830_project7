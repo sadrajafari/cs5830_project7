{
 "cells": [
  {
   "cell_type": "code",
   "execution_count": null,
   "id": "bcd5039c-01f6-45a3-928e-1a639813555a",
   "metadata": {},
   "outputs": [],
   "source": [
    "import pandas as pd\n",
    "import matplotlib.pyplot as plt\n",
    "import seaborn as sns\n",
    "from sklearn.linear_model import LogisticRegression\n",
    "from sklearn.svm import SVC\n",
    "from sklearn.metrics import precision_recall_fscore_support\n",
    "from sklearn.model_selection import cross_val_score, KFold\n",
    "import time\n",
    "from sklearn.model_selection import train_test_split\n",
    "from sklearn.metrics import confusion_matrix"
   ]
  },
  {
   "cell_type": "code",
   "execution_count": null,
   "id": "37e278be-6437-47e1-85b5-3da58e579c6d",
   "metadata": {},
   "outputs": [],
   "source": [
    "# First Analysis"
   ]
  },
  {
   "cell_type": "code",
   "execution_count": null,
   "id": "a47cd773-6513-4575-92de-45fafac30bd7",
   "metadata": {},
   "outputs": [],
   "source": [
    "HRisk_data = pd.read_csv(\"Maternal Health Risk Data Set.csv\")\n",
    "HRisk_data"
   ]
  },
  {
   "cell_type": "code",
   "execution_count": null,
   "id": "b8a2cee0-bfae-4441-9dc6-843c5f7b9037",
   "metadata": {},
   "outputs": [],
   "source": [
    "#### The target column is RiskLevel with three classes named: 'high risk', 'low risk', 'mid risk'"
   ]
  },
  {
   "cell_type": "code",
   "execution_count": null,
   "id": "e9c63157-33ce-41dd-973a-9d52177a6f7d",
   "metadata": {},
   "outputs": [],
   "source": [
    "HRisk_data[\"RiskLevel\"].unique()"
   ]
  },
  {
   "cell_type": "code",
   "execution_count": null,
   "id": "cd56c2d9-fbc1-4eda-91da-e58806cf9add",
   "metadata": {},
   "outputs": [],
   "source": [
    "# Data pre-processing"
   ]
  },
  {
   "cell_type": "code",
   "execution_count": null,
   "id": "de52b0b8-1ce2-479a-ad46-13e06cb6243d",
   "metadata": {},
   "outputs": [],
   "source": [
    "### Removing NaN values"
   ]
  },
  {
   "cell_type": "code",
   "execution_count": null,
   "id": "9fa4f00b-ab0a-4fb2-a756-4b50d505fec4",
   "metadata": {},
   "outputs": [],
   "source": [
    "HRisk_data = HRisk_data.dropna()\n",
    "HRisk_data"
   ]
  },
  {
   "cell_type": "code",
   "execution_count": null,
   "id": "b609fa43-101b-4041-9122-a373876a4a69",
   "metadata": {},
   "outputs": [],
   "source": [
    "#### Converting mid risk and high risk to 1 and low risk to 0"
   ]
  },
  {
   "cell_type": "code",
   "execution_count": null,
   "id": "8dda79b1-1c6b-4d18-95ba-390041480892",
   "metadata": {},
   "outputs": [],
   "source": [
    "HRisk_data[\"RiskLevel\"] = HRisk_data[\"RiskLevel\"].replace({\"low risk\": 0, \"mid risk\": 1, \"high risk\": 1})\n",
    "HRisk_data[\"RiskLevel\"].unique()"
   ]
  },
  {
   "cell_type": "code",
   "execution_count": null,
   "id": "91261d5c-02d6-452b-871f-1de3b68cd92b",
   "metadata": {},
   "outputs": [],
   "source": [
    "# plt.figure(figsize=(12, 10))\n",
    "# sns.heatmap(HRisk_data.corr(), annot=True, cmap='coolwarm', fmt=\".2f\",\n",
    "#                       annot_kws={\"fontsize\": 7})  # Adjust fontsize as needed\n",
    "# plt.title(\"correlation heatmap\")\n",
    "plt.figure(figsize=(12, 10))\n",
    "heatmap = sns.heatmap(HRisk_data.corr(), annot=True, cmap='coolwarm', fmt=\".2f\",\n",
    "            annot_kws={\"fontsize\": 16})  # Adjust fontsize as needed\n",
    "heatmap.set_xticklabels(heatmap.get_xticklabels(), fontsize=13)\n",
    "heatmap.set_yticklabels(heatmap.get_yticklabels(), fontsize=13)\n",
    "plt.title(\"Correlation Heatmap\", fontsize=16)  # Adjust fontsize as needed\n",
    "plt.show()"
   ]
  },
  {
   "cell_type": "code",
   "execution_count": null,
   "id": "85f76676-a273-4e61-85ff-2192717083ca",
   "metadata": {},
   "outputs": [],
   "source": [
    "lowRisk_count = HRisk_data[HRisk_data[\"RiskLevel\"] == 0].RiskLevel.count()\n",
    "Risky_count = HRisk_data[HRisk_data[\"RiskLevel\"] == 1].RiskLevel.count()\n",
    "\n",
    "plt.bar(['Low risk', 'Risky'], [lowRisk_count, Risky_count])\n",
    "plt.xticks(fontsize=15)\n",
    "\n",
    "for i, count in enumerate([lowRisk_count, Risky_count]):\n",
    "    plt.text(i, count + 0.1, str(count), ha='center', fontsize=15)\n",
    "\n",
    "plt.xlabel(\"Target names\", fontsize=15)\n",
    "plt.ylabel(\"Counts\", fontsize=15)\n",
    "plt.title(\"Counts of each target names\", fontsize=15)"
   ]
  },
  {
   "cell_type": "code",
   "execution_count": null,
   "id": "957acd32-a10c-42c1-8dc8-dc884ff0a123",
   "metadata": {},
   "outputs": [],
   "source": [
    "data = HRisk_data[[\"SystolicBP\", \"DiastolicBP\", \"BS\", \"RiskLevel\", \"BodyTemp\"]]\n",
    "data"
   ]
  },
  {
   "cell_type": "code",
   "execution_count": null,
   "id": "52c43f7b-b59e-4038-8a9d-7af282873e60",
   "metadata": {},
   "outputs": [],
   "source": [
    "X = HRisk_data.drop([\"RiskLevel\", \"HeartRate\"], axis=1).values.copy()\n",
    "y = HRisk_data[\"RiskLevel\"].values.copy()\n"
   ]
  },
  {
   "cell_type": "code",
   "execution_count": null,
   "id": "9037fef5-bbe6-4d64-870a-383dc18aaa26",
   "metadata": {},
   "outputs": [],
   "source": [
    "### Defining the decision boundaries"
   ]
  },
  {
   "cell_type": "code",
   "execution_count": null,
   "id": "dc62119e-b0eb-4167-86e2-fb8a843c90f0",
   "metadata": {},
   "outputs": [],
   "source": [
    "y_data = y\n",
    "X_data_Sys_Dia = HRisk_data[[\"SystolicBP\", \"DiastolicBP\"]]\n",
    "X_data_Sys_BS = HRisk_data[[\"SystolicBP\", \"BS\"]]"
   ]
  },
  {
   "cell_type": "code",
   "execution_count": null,
   "id": "3fe03d77-bcc9-4146-b585-8cc8ee694f9d",
   "metadata": {},
   "outputs": [],
   "source": [
    "import numpy as np\n",
    "import matplotlib.pyplot as plt\n",
    "from sklearn.svm import SVC\n",
    "\n",
    "fig, axs = plt.subplots(1, 2, figsize=(17, 5))\n",
    "\n",
    "\n",
    "\n",
    "\n",
    "clf = SVC(kernel='linear')\n",
    "# clf = SVC(kernel='linear', class_weight={0: 1, 1: 1})\n",
    "clf.fit(X_data_Sys_Dia, y_data)\n",
    "x_min, x_max = X_data_Sys_Dia.iloc[:, 0].min() - 1, X_data_Sys_Dia.iloc[:, 0].max() + 1\n",
    "y_min, y_max = X_data_Sys_Dia.iloc[:, 1].min() - 1, X_data_Sys_Dia.iloc[:, 1].max() + 1\n",
    "xx, yy = np.meshgrid(np.arange(x_min, x_max, 0.1), np.arange(y_min, y_max, 0.1))\n",
    "Z = clf.predict(np.c_[xx.ravel(), yy.ravel()])\n",
    "Z = Z.reshape(xx.shape)\n",
    "axs[0].contourf(xx, yy, Z, alpha=0.3, cmap='coolwarm')\n",
    "# Plot class samples\n",
    "axs[0].scatter(X_data_Sys_Dia.iloc[:, 0], X_data_Sys_Dia.iloc[:, 1], c=y_data, cmap='coolwarm', edgecolors='k')\n",
    "plt.xticks(fontsize=14)\n",
    "axs[0].set_xlabel('SystolicBP', fontsize = 14)\n",
    "axs[0].set_ylabel('DiastolicBP', fontsize = 14)\n",
    "axs[0].set_title(\"SVM with kernel linear decision boundary for SystolicBP and DiastolicBP\", fontsize = 14)\n",
    "axs[0].tick_params(axis='x', labelsize=12)\n",
    "axs[0].tick_params(axis='y', labelsize=12)\n",
    "\n",
    "\n",
    "\n",
    "color = ['b' if y == 0 else \"r\" for y in HRisk_data[\"RiskLevel\"]]\n",
    "lm = LogisticRegression()\n",
    "lm.fit(HRisk_data[[\"SystolicBP\", \"BS\"]], HRisk_data[\"RiskLevel\"])\n",
    "axs[1].scatter(HRisk_data[\"SystolicBP\"], HRisk_data[\"BS\"], c=color)\n",
    "b0 = lm.intercept_[0]\n",
    "b = lm.coef_[0]\n",
    "x_ = [50, 150]\n",
    "y_ = [-(b0 + b[0] * x)/b[1] for x in x_]\n",
    "axs[1].plot(x_, y_)\n",
    "axs[1].set_xlabel(\"SystolicBP\", fontsize = 14)\n",
    "axs[1].set_ylabel(\"BS\", fontsize = 14)\n",
    "axs[1].set_title(\"Logistic regression decision boundary for BS and SystolicBP\", fontsize = 14)\n",
    "axs[1].tick_params(axis='x', labelsize=12)\n",
    "axs[1].tick_params(axis='y', labelsize=12)\n",
    "display(f\"b0 -> {b0}\")\n",
    "display(f\"b1 -> {b[0]}\")\n",
    "display(f\"b2 -> {b[1]}\")\n",
    "\n"
   ]
  },
  {
   "cell_type": "markdown",
   "id": "a7903cb2",
   "metadata": {},
   "source": [
    "### SVM kernel with systolic and diastolic"
   ]
  },
  {
   "cell_type": "code",
   "execution_count": null,
   "id": "4a66088c-2f37-4e43-98c9-63945afa010a",
   "metadata": {},
   "outputs": [],
   "source": [
    "X_train_SysDias, X_test_SysDias, y_train_SysDias, y_test_SysDias = train_test_split(HRisk_data[[\"SystolicBP\", \"DiastolicBP\"]], y_data, test_size=0.2, random_state=42)\n",
    "clf = SVC(kernel='linear')\n",
    "clf.fit(X_train_SysDias, y_train_SysDias)\n",
    "predicted = clf.predict(X_test_SysDias)\n",
    "p,r,f,s = precision_recall_fscore_support(y_test_SysDias, predicted, labels=[0, 1])\n",
    "display('precision = {}'.format(p))\n",
    "display('recall = {}'.format(r))\n",
    "display('f-score = {}'.format(f))"
   ]
  },
  {
   "cell_type": "markdown",
   "id": "df4c5140",
   "metadata": {},
   "source": [
    "### Logistic regression on `SystolicBP`, `BS`"
   ]
  },
  {
   "cell_type": "code",
   "execution_count": null,
   "id": "dde020b8-1c33-41fb-a0c6-ce3903348e83",
   "metadata": {},
   "outputs": [],
   "source": [
    "X_train_SysDias, X_test_SysDias, y_train_SysDias, y_test_SysDias = train_test_split(HRisk_data[[\"SystolicBP\", \"BS\"]], y_data, test_size=0.2, random_state=42)\n",
    "clf = LogisticRegression()\n",
    "clf.fit(X_train_SysDias, y_train_SysDias)\n",
    "predicted = clf.predict(X_test_SysDias)\n",
    "p,r,f,s = precision_recall_fscore_support(y_test_SysDias, predicted, labels=[0, 1])\n",
    "display('precision = {}'.format(p))\n",
    "display('recall = {}'.format(r))\n",
    "display('f-score = {}'.format(f))"
   ]
  },
  {
   "cell_type": "code",
   "execution_count": null,
   "id": "7fa32ebc-1323-4f40-9476-42fa4450e852",
   "metadata": {},
   "outputs": [],
   "source": [
    "X_train, X_test, y_train, y_test = train_test_split(X, y, test_size=0.2, random_state=42)"
   ]
  },
  {
   "cell_type": "code",
   "execution_count": null,
   "id": "e3fd6377-7afa-488f-a280-76747be2a743",
   "metadata": {},
   "outputs": [],
   "source": [
    "# Logistic Regression"
   ]
  },
  {
   "cell_type": "code",
   "execution_count": null,
   "id": "3aaca525-aa75-4489-9ca1-54d98a7a52e8",
   "metadata": {},
   "outputs": [],
   "source": [
    "LRmodel = LogisticRegression(max_iter=1000)\n",
    "LRmodel.fit(X_train, y_train)\n",
    "y_pred_LR = LRmodel.predict(X_test)\n",
    "\n"
   ]
  },
  {
   "cell_type": "code",
   "execution_count": null,
   "id": "f842c894-0cdb-4962-b848-039ecd352fe3",
   "metadata": {},
   "outputs": [],
   "source": [
    "p,r,f,s = precision_recall_fscore_support(y_test, y_pred_LR, labels=[0, 1])\n",
    "\n",
    "display('precision = {}'.format(p))\n",
    "display('recall = {}'.format(r))\n",
    "display('f-score = {}'.format(f))"
   ]
  },
  {
   "cell_type": "code",
   "execution_count": null,
   "id": "0806ceb1-208c-48b8-978a-b6dcb72365ad",
   "metadata": {},
   "outputs": [],
   "source": [
    "# SVM linear"
   ]
  },
  {
   "cell_type": "code",
   "execution_count": null,
   "id": "8e1b8981-4eac-4851-9e36-237a4bcd1340",
   "metadata": {},
   "outputs": [],
   "source": [
    "model = SVC(kernel=\"linear\")\n",
    "model.fit(X_train, y_train)\n",
    "y_pred_LSVM = model.predict(X_test)\n",
    "\n"
   ]
  },
  {
   "cell_type": "code",
   "execution_count": null,
   "id": "d8461f33-e9c1-42b2-b003-0d50dabb49e0",
   "metadata": {},
   "outputs": [],
   "source": [
    "p,r,f,s = precision_recall_fscore_support(y_test, y_pred_LSVM, labels=[0, 1])\n",
    "\n",
    "display('precision = {}'.format(p))\n",
    "display('recall = {}'.format(r))\n",
    "display('f-score = {}'.format(f))"
   ]
  },
  {
   "cell_type": "code",
   "execution_count": null,
   "id": "a5d117b9-133e-4b8c-bbf5-0aa10a89c914",
   "metadata": {},
   "outputs": [],
   "source": [
    "# SVM linear changing the class weights"
   ]
  },
  {
   "cell_type": "code",
   "execution_count": null,
   "id": "951e9433-c794-4637-b8df-abfda9ac346b",
   "metadata": {},
   "outputs": [],
   "source": [
    "model = SVC(kernel=\"linear\", class_weight={0: .9, 1: 1})\n",
    "model.fit(X_train, y_train)\n",
    "y_pred_LSVM_ClassWeights = model.predict(X_test)\n"
   ]
  },
  {
   "cell_type": "code",
   "execution_count": null,
   "id": "c08fa3ce-59ff-424f-b0a6-35ad3a82f850",
   "metadata": {},
   "outputs": [],
   "source": [
    "p,r,f,s = precision_recall_fscore_support(y_test, y_pred_LSVM_ClassWeights, labels=[0, 1])\n",
    "\n",
    "display('precision = {}'.format(p))\n",
    "display('recall = {}'.format(r))\n",
    "display('f-score = {}'.format(f))"
   ]
  },
  {
   "cell_type": "code",
   "execution_count": null,
   "id": "3eee809c-c6eb-4fcd-92bf-6240ef487803",
   "metadata": {},
   "outputs": [],
   "source": [
    "model = SVC(kernel=\"poly\")\n",
    "model.fit(X_train, y_train)\n",
    "y_pred_SVM_poly = model.predict(X_test)\n",
    "\n"
   ]
  },
  {
   "cell_type": "code",
   "execution_count": null,
   "id": "3b60b7e9-85d3-42fb-b6db-3aa4d1034352",
   "metadata": {},
   "outputs": [],
   "source": [
    "p,r,f,s = precision_recall_fscore_support(y_test, y_pred_SVM_poly, labels=[0, 1])\n",
    "display('precision = {}'.format(p))\n",
    "display('recall = {}'.format(r))\n",
    "display('f-score = {}'.format(f))"
   ]
  },
  {
   "cell_type": "code",
   "execution_count": null,
   "id": "afc4fa97-755a-4348-aff0-6fb2058a88ec",
   "metadata": {},
   "outputs": [],
   "source": [
    "# SVM polynomial changing class weight"
   ]
  },
  {
   "cell_type": "code",
   "execution_count": null,
   "id": "7b0bd757-5f02-45ba-a93b-9cca8e1071a2",
   "metadata": {},
   "outputs": [],
   "source": [
    "model = SVC(kernel=\"poly\", class_weight={0: .9, 1: 1})\n",
    "model.fit(X_train, y_train)\n",
    "y_pred_poly_classWeights = model.predict(X_test)\n"
   ]
  },
  {
   "cell_type": "code",
   "execution_count": null,
   "id": "afde4a42-9af1-449c-a87f-d707a6c497c3",
   "metadata": {},
   "outputs": [],
   "source": [
    "p,r,f,s = precision_recall_fscore_support(y_test, y_pred_poly_classWeights, labels=[0, 1])\n",
    "\n",
    "display('precision = {}'.format(p))\n",
    "display('recall = {}'.format(r))\n",
    "display('f-score = {}'.format(f))"
   ]
  },
  {
   "cell_type": "code",
   "execution_count": null,
   "id": "217887ea-4971-4130-87fc-60b9a18a4f98",
   "metadata": {},
   "outputs": [],
   "source": [
    "# SVM RBF\n"
   ]
  },
  {
   "cell_type": "code",
   "execution_count": null,
   "id": "08778f2d-3e19-47a5-a71b-1a51ea1fd118",
   "metadata": {},
   "outputs": [],
   "source": [
    "model = SVC(kernel=\"rbf\")\n",
    "model.fit(X_train, y_train)\n",
    "y_pred_RBF = model.predict(X_test)\n"
   ]
  },
  {
   "cell_type": "code",
   "execution_count": null,
   "id": "d3f9931b-799e-4fa8-a8c3-d061cbfe3801",
   "metadata": {},
   "outputs": [],
   "source": [
    "p,r,f,s = precision_recall_fscore_support(y_test, y_pred_RBF, labels=[0, 1])\n",
    "\n",
    "display('precision = {}'.format(p))\n",
    "display('recall = {}'.format(r))\n",
    "display('f-score = {}'.format(f))"
   ]
  },
  {
   "cell_type": "code",
   "execution_count": null,
   "id": "3622b59f-fcf6-4bf9-8593-3aad025a77db",
   "metadata": {},
   "outputs": [],
   "source": [
    "# SVM RBF with changing class weights"
   ]
  },
  {
   "cell_type": "code",
   "execution_count": null,
   "id": "6c2201a6-7fcd-4325-a3c9-4d277139d6e6",
   "metadata": {},
   "outputs": [],
   "source": [
    "model = SVC(kernel=\"rbf\", class_weight={0: .9, 1: 1})\n",
    "model.fit(X_train, y_train)\n",
    "y_pred_RBF_ClassWeights = model.predict(X_test)\n"
   ]
  },
  {
   "cell_type": "code",
   "execution_count": null,
   "id": "ee6b7ca6-9f10-4e2c-a291-c2b669c8a959",
   "metadata": {},
   "outputs": [],
   "source": [
    "p,r,f,s = precision_recall_fscore_support(y_test, y_pred_RBF_ClassWeights, labels=[0, 1])\n",
    "\n",
    "display('precision = {}'.format(p))\n",
    "display('recall = {}'.format(r))\n",
    "display('f-score = {}'.format(f))"
   ]
  },
  {
   "cell_type": "code",
   "execution_count": null,
   "id": "011a9c1f-2426-400d-9853-16ea898cc9a5",
   "metadata": {},
   "outputs": [],
   "source": [
    "# Second analysis"
   ]
  },
  {
   "cell_type": "code",
   "execution_count": null,
   "id": "bbf0b89f-f396-4a80-99f7-fcd745320f0e",
   "metadata": {},
   "outputs": [],
   "source": [
    "data = pd.read_csv(\"apple_quality.csv\")\n",
    "data\n"
   ]
  },
  {
   "cell_type": "code",
   "execution_count": null,
   "id": "faa92dd9-18a9-44d6-a95e-f7062d0d5faf",
   "metadata": {},
   "outputs": [],
   "source": [
    "data = data.dropna()\n",
    "data = data.drop('A_id',axis=1)\n",
    "data['Acidity'] = data['Acidity'].astype(float)\n",
    "data['Quality'] = data['Quality'].replace({'good': 1, 'bad': 0})\n",
    "\n",
    "##data = data.head(1000)\n",
    "\n",
    "data\n"
   ]
  },
  {
   "cell_type": "code",
   "execution_count": null,
   "id": "fa8065c4-f4f6-4662-9c7c-fc646ac2bee4",
   "metadata": {},
   "outputs": [],
   "source": [
    "# plt.figure(figsize=(12, 10))\n",
    "# sns.heatmap(HRisk_data.corr(), annot=True, cmap='coolwarm', fmt=\".2f\",\n",
    "#                       annot_kws={\"fontsize\": 7})  # Adjust fontsize as needed\n",
    "# plt.title(\"correlation heatmap\")\n",
    "plt.figure(figsize=(17, 14))\n",
    "heatmap = sns.heatmap(data.corr(), annot=True, cmap='coolwarm', fmt=\".2f\",\n",
    "            annot_kws={\"fontsize\": 23})  # Adjust fontsize as needed\n",
    "heatmap.set_xticklabels(heatmap.get_xticklabels(), fontsize=17)\n",
    "heatmap.set_yticklabels(heatmap.get_yticklabels(), fontsize=17)\n",
    "plt.title(\"Correlation Heatmap\", fontsize=25)  # Adjust fontsize as needed\n",
    "plt.show()\n"
   ]
  },
  {
   "cell_type": "code",
   "execution_count": null,
   "id": "4226e61b-29d1-4538-b1bd-dd14ca20efa5",
   "metadata": {},
   "outputs": [],
   "source": [
    "from sklearn.linear_model import LogisticRegression\n",
    "\n",
    "# X = data[['Size','Sweetness']]\n",
    "X = data[['Ripeness','Juiciness']]\n",
    "y = data.Quality\n",
    "\n",
    "lm = LogisticRegression()\n",
    "lm.fit(X, y)\n",
    "\n",
    "# print(lm.intercept_)\n",
    "# print(lm.coef_)\n",
    "\n",
    "y_pred = lm.predict(X)\n",
    "\n",
    "display(y_pred)\n",
    "\n",
    "display('predicted range: [{0:.2f},{1:.2f}]'.format(min(y_pred), max(y_pred)))\n",
    "\n",
    "p,r,f,s = precision_recall_fscore_support(y, y_pred, labels=[0, 1])\n",
    "display('precision = {}'.format(p))\n",
    "display('recall = {}'.format(r))\n",
    "display('f-score = {}'.format(f))\n"
   ]
  },
  {
   "cell_type": "code",
   "execution_count": null,
   "id": "dba5feef-3bd3-4327-a279-449a523d7248",
   "metadata": {},
   "outputs": [],
   "source": [
    "color = ['r' if y_ == 0 else 'b' for y_ in y]\n",
    "plt.scatter(data.Juiciness, data.Ripeness, c=color, s=8)\n",
    "\n",
    "b0 = lm.intercept_[0]\n",
    "b = lm.coef_[0]\n",
    "\n",
    "print(b0, b)\n",
    "# Xdb = [-4.8, 2.8]\n",
    "Xdb = [-2, 6]\n",
    "ydb = [-(b0+b[0]*x)/b[1] for x in Xdb]\n",
    "plt.plot(Xdb, ydb)\n",
    "plt.ylabel('Ripeness')\n",
    "plt.xlabel('Juiciness')\n",
    "plt.title(\"Ripeness - Juiciness Logistic regression decision boundary\")\n"
   ]
  },
  {
   "cell_type": "code",
   "execution_count": null,
   "id": "b4159e52-8b43-4651-bba7-82ecfe1c2a34",
   "metadata": {},
   "outputs": [],
   "source": [
    "df = pd.read_csv(\"apple_quality.csv\")\n"
   ]
  },
  {
   "cell_type": "code",
   "execution_count": null,
   "id": "13b1bb7f-4497-459b-923d-62eb4ec2a1d0",
   "metadata": {},
   "outputs": [],
   "source": [
    "df = df.dropna()\n",
    "df = df.drop('A_id',axis=1)\n",
    "df['Acidity'] = df['Acidity'].astype(float)\n",
    "df['Quality'] = df['Quality'].replace({'good': 1, 'bad': 0})\n"
   ]
  },
  {
   "cell_type": "code",
   "execution_count": null,
   "id": "562b8ea8-323e-4f4b-a990-de7a339a6626",
   "metadata": {},
   "outputs": [],
   "source": [
    "import pandas as pd\n",
    "from sklearn.model_selection import train_test_split\n",
    "from sklearn.svm import SVC\n",
    "from sklearn.metrics import f1_score, recall_score\n",
    "from sklearn.preprocessing import StandardScaler\n",
    "\n",
    "\n",
    "X = df.drop(\"Quality\", axis=1).values.copy()\n",
    "y = df[\"Quality\"].values.copy()\n",
    "\n",
    "display(X)\n",
    "\n",
    "\n",
    "# Step 4: Split Data\n",
    "X_train, X_test, y_train, y_test = train_test_split(X, y, test_size=0.2, random_state=42)\n",
    "\n",
    "# Step 5: Train SVM Model\n",
    "# Optional: Scale features\n",
    "scaler = StandardScaler()\n",
    "X_train_scaled = scaler.fit_transform(X_train)\n",
    "X_test_scaled = scaler.transform(X_test)\n",
    "\n",
    "\n",
    "\n",
    "\n"
   ]
  },
  {
   "cell_type": "code",
   "execution_count": null,
   "id": "082b8976",
   "metadata": {},
   "outputs": [],
   "source": [
    "# Create SVM model\n",
    "svm_model = SVC(kernel='linear')  # You can choose different kernels like 'rbf', 'poly', etc.\n",
    "\n",
    "# Train the model\n",
    "svm_model.fit(X_train_scaled, y_train)\n",
    "\n",
    "# Step 6: Evaluate Model\n",
    "# Make predictions\n",
    "y_pred = svm_model.predict(X_test_scaled)"
   ]
  },
  {
   "cell_type": "code",
   "execution_count": null,
   "id": "9a6a9e5d",
   "metadata": {},
   "outputs": [],
   "source": [
    "\n",
    "# # Calculate F1-score\n",
    "# f1 = f1_score(y_test, y_pred)\n",
    "# print(\"F1-score:\", f1)\n",
    "\n",
    "# # Calculate recall\n",
    "# recall = recall_score(y_test, y_pred)\n",
    "# print(\"Recall:\", recall)\n",
    "\n",
    "p,r,f,s = precision_recall_fscore_support(y_test, y_pred, labels=[0, 1])\n",
    "display('precision = {}'.format(p))\n",
    "display('recall = {}'.format(r))\n",
    "display('f-score = {}'.format(f))"
   ]
  },
  {
   "cell_type": "code",
   "execution_count": null,
   "id": "ddbb1794-50b1-48d6-ae7f-d9ac743454f3",
   "metadata": {},
   "outputs": [],
   "source": [
    "\n",
    "cm = confusion_matrix(y_test, y_pred)\n",
    "\n",
    "# Plot confusion matrix\n",
    "plt.figure(figsize=(4, 4))\n",
    "sns.heatmap(cm, annot=True, fmt='d', cmap='Blues', cbar=False)\n",
    "plt.xlabel('Predicted labels')\n",
    "plt.ylabel('True labels')\n",
    "plt.title('Confusion Matrix of SVM (linear)')\n",
    "plt.show()\n"
   ]
  }
 ],
 "metadata": {
  "kernelspec": {
   "display_name": "Python 3 (ipykernel)",
   "language": "python",
   "name": "python3"
  },
  "language_info": {
   "codemirror_mode": {
    "name": "ipython",
    "version": 3
   },
   "file_extension": ".py",
   "mimetype": "text/x-python",
   "name": "python",
   "nbconvert_exporter": "python",
   "pygments_lexer": "ipython3",
   "version": "3.11.1"
  }
 },
 "nbformat": 4,
 "nbformat_minor": 5
}
